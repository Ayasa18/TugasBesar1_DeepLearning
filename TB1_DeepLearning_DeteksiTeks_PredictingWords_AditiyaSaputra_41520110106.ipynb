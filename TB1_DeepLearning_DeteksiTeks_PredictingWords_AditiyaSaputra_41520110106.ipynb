{
  "nbformat": 4,
  "nbformat_minor": 0,
  "metadata": {
    "colab": {
      "provenance": []
    },
    "kernelspec": {
      "name": "python3",
      "display_name": "Python 3"
    },
    "language_info": {
      "name": "python"
    }
  },
  "cells": [
    {
      "cell_type": "markdown",
      "source": [
        "# Predicting the next word\n",
        "Menghasilkan teks baru yang mengikuti teks awal yang diberikan, dengan menggunakan model bahasa untuk memprediksi kata-kata berikutnya berdasarkan konteksnya.\n",
        "\n",
        "\n",
        "\n"
      ],
      "metadata": {
        "id": "8f7BdhspTCFM"
      }
    },
    {
      "cell_type": "code",
      "execution_count": 1,
      "metadata": {
        "id": "nA6YG5lvS7Ej"
      },
      "outputs": [],
      "source": [
        "import numpy as np\n",
        "import matplotlib.pyplot as plt\n",
        "from tensorflow.keras.models import Sequential\n",
        "from tensorflow.keras.utils import to_categorical\n",
        "from tensorflow.keras.preprocessing.text import Tokenizer\n",
        "from tensorflow.keras.preprocessing.sequence import pad_sequences\n",
        "from tensorflow.keras.layers import Embedding, LSTM, Dense, Bidirectional"
      ]
    },
    {
      "cell_type": "markdown",
      "source": [
        "Saya menggunakan dataset [Shakespeare Sonnets Dataset](https://www.opensourceshakespeare.org/views/sonnets/sonnet_view.php?range=viewrange&sonnetrange1=1&sonnetrange2=154), berisi lebih dari 2000 baris text dari Shakespeare's sonnets."
      ],
      "metadata": {
        "id": "BIMT2WYcTM6s"
      }
    },
    {
      "cell_type": "code",
      "source": [
        "# sonnets.txt\n",
        "!gdown --id 108jAePKK4R3BVYBbYJZ32JWUwxeMg20K"
      ],
      "metadata": {
        "colab": {
          "base_uri": "https://localhost:8080/"
        },
        "id": "0JGXmM5TTF2i",
        "outputId": "6b8c77c9-0245-4069-b23c-b38ae6096dee"
      },
      "execution_count": 2,
      "outputs": [
        {
          "output_type": "stream",
          "name": "stdout",
          "text": [
            "/usr/local/lib/python3.10/dist-packages/gdown/cli.py:121: FutureWarning: Option `--id` was deprecated in version 4.3.1 and will be removed in 5.0. You don't need to pass it anymore to use a file ID.\n",
            "  warnings.warn(\n",
            "Downloading...\n",
            "From: https://drive.google.com/uc?id=108jAePKK4R3BVYBbYJZ32JWUwxeMg20K\n",
            "To: /content/sonnets.txt\n",
            "100% 93.6k/93.6k [00:00<00:00, 120MB/s]\n"
          ]
        }
      ]
    },
    {
      "cell_type": "code",
      "source": [
        "# Mendefinisikan path untuk file soneta\n",
        "SONNETS_FILE = './sonnets.txt'\n",
        "\n",
        "# Membaca data\n",
        "with open('./sonnets.txt') as f:\n",
        "    data = f.read()\n",
        "\n",
        "# Mengonversi ke huruf kecil dan menyimpan sebagai daftar\n",
        "corpus = data.lower().split(\"\\n\")\n",
        "\n",
        "print(f\"Ada {len(corpus)} baris soneta\\n\")\n",
        "print(f\"5 baris pertama terlihat seperti ini:\\n\")\n",
        "for i in range(5):\n",
        "  print(corpus[i])"
      ],
      "metadata": {
        "colab": {
          "base_uri": "https://localhost:8080/"
        },
        "id": "sOr3oz6HTR7g",
        "outputId": "de65b690-52f4-428f-d841-b9dc44eb7b9b"
      },
      "execution_count": 5,
      "outputs": [
        {
          "output_type": "stream",
          "name": "stdout",
          "text": [
            "Ada 2159 baris soneta\n",
            "\n",
            "5 baris pertama terlihat seperti ini:\n",
            "\n",
            "from fairest creatures we desire increase,\n",
            "that thereby beauty's rose might never die,\n",
            "but as the riper should by time decease,\n",
            "his tender heir might bear his memory:\n",
            "but thou, contracted to thine own bright eyes,\n"
          ]
        }
      ]
    },
    {
      "cell_type": "markdown",
      "source": [
        "\n",
        "## Tokenisasi Teks\n",
        "\n",
        "Sekarang, pasangkan Tokenizer ke dalam korpus dan simpan total jumlah kata.\n",
        "\n"
      ],
      "metadata": {
        "id": "i51SWcYGW2eK"
      }
    },
    {
      "cell_type": "code",
      "source": [
        "tokenizer = Tokenizer()\n",
        "tokenizer.fit_on_texts(corpus)\n",
        "total_words = len(tokenizer.word_index) + 1"
      ],
      "metadata": {
        "id": "3AgGxwOwTl_z"
      },
      "execution_count": 6,
      "outputs": []
    },
    {
      "cell_type": "markdown",
      "source": [
        "Ketika mengonversi teks menjadi urutan, dapat menggunakan metode texts_to_sequences\n",
        "Contoh pertama dari korpus adalah sebuah string dan terlihat seperti ini:"
      ],
      "metadata": {
        "id": "h0baNUMyXJkV"
      }
    },
    {
      "cell_type": "code",
      "source": [
        "corpus[0]"
      ],
      "metadata": {
        "colab": {
          "base_uri": "https://localhost:8080/",
          "height": 35
        },
        "id": "3iaBj-voXBBT",
        "outputId": "5d26461d-d312-41f1-f7f9-81ca6c763357"
      },
      "execution_count": 7,
      "outputs": [
        {
          "output_type": "execute_result",
          "data": {
            "text/plain": [
              "'from fairest creatures we desire increase,'"
            ],
            "application/vnd.google.colaboratory.intrinsic+json": {
              "type": "string"
            }
          },
          "metadata": {},
          "execution_count": 7
        }
      ]
    },
    {
      "cell_type": "code",
      "source": [
        "tokenizer.texts_to_sequences([corpus[0]])"
      ],
      "metadata": {
        "colab": {
          "base_uri": "https://localhost:8080/"
        },
        "id": "oXQI3qZDXU_j",
        "outputId": "1acdd88f-3f20-4184-bc29-e306fb119fe1"
      },
      "execution_count": 8,
      "outputs": [
        {
          "output_type": "execute_result",
          "data": {
            "text/plain": [
              "[[34, 417, 877, 166, 213, 517]]"
            ]
          },
          "metadata": {},
          "execution_count": 8
        }
      ]
    },
    {
      "cell_type": "markdown",
      "source": [
        "Perhatikan bahwa menerima urutan yang dibungkus dalam sebuah daftar, jadi untuk mendapatkan hanya urutan yang diinginkan,  perlu secara eksplisit mengambil item pertama dalam daftar seperti ini:"
      ],
      "metadata": {
        "id": "m0TpTVTvXqC5"
      }
    },
    {
      "cell_type": "code",
      "source": [
        "tokenizer.texts_to_sequences([corpus[0]])[0]"
      ],
      "metadata": {
        "colab": {
          "base_uri": "https://localhost:8080/"
        },
        "id": "MapclRkGXkMK",
        "outputId": "e00a0617-8799-4cd0-b22c-3153dd541711"
      },
      "execution_count": 9,
      "outputs": [
        {
          "output_type": "execute_result",
          "data": {
            "text/plain": [
              "[34, 417, 877, 166, 213, 517]"
            ]
          },
          "metadata": {},
          "execution_count": 9
        }
      ]
    },
    {
      "cell_type": "markdown",
      "source": [
        "##Menghasilkan n-gram\n",
        "\n",
        " Fungsi ini menerima tokenizer yang telah disesuaikan dan korpus (yang merupakan daftar string) dan seharusnya mengembalikan daftar yang berisi urutan n-gram untuk setiap baris dalam korpus:"
      ],
      "metadata": {
        "id": "Y9pSoRq0YBaV"
      }
    },
    {
      "cell_type": "code",
      "source": [
        "def n_gram_seqs(corpus, tokenizer):\n",
        "    input_sequences = []\n",
        "\n",
        "    for line in corpus:\n",
        "        token_list = tokenizer.texts_to_sequences([line])[0]\n",
        "\n",
        "        for i in range(1, len(token_list)):\n",
        "            n_gram_sequence = token_list[:i + 1]\n",
        "            input_sequences.append(n_gram_sequence)\n",
        "\n",
        "    return input_sequences"
      ],
      "metadata": {
        "id": "O2GMB0QXXxrY"
      },
      "execution_count": 10,
      "outputs": []
    },
    {
      "cell_type": "code",
      "source": [
        "first_example_sequence = n_gram_seqs([corpus[0]], tokenizer)\n",
        "\n",
        "print(\"Urutan n-gram untuk contoh pertama terlihat seperti ini:\\n\")\n",
        "first_example_sequence"
      ],
      "metadata": {
        "colab": {
          "base_uri": "https://localhost:8080/"
        },
        "id": "hXA2k9AwYM3s",
        "outputId": "45e3e119-1ec1-4ee0-fe35-4fb271a36fcf"
      },
      "execution_count": 12,
      "outputs": [
        {
          "output_type": "stream",
          "name": "stdout",
          "text": [
            "Urutan n-gram untuk contoh pertama terlihat seperti ini:\n",
            "\n"
          ]
        },
        {
          "output_type": "execute_result",
          "data": {
            "text/plain": [
              "[[34, 417],\n",
              " [34, 417, 877],\n",
              " [34, 417, 877, 166],\n",
              " [34, 417, 877, 166, 213],\n",
              " [34, 417, 877, 166, 213, 517]]"
            ]
          },
          "metadata": {},
          "execution_count": 12
        }
      ]
    },
    {
      "cell_type": "code",
      "source": [
        "next_3_examples_sequence = n_gram_seqs(corpus[1:4], tokenizer)\n",
        "\n",
        "print(\"Urutan n-gram untuk 3 contoh berikut terlihat seperti ini:\\n\")\n",
        "next_3_examples_sequence"
      ],
      "metadata": {
        "colab": {
          "base_uri": "https://localhost:8080/"
        },
        "id": "euRIDXFfYRst",
        "outputId": "947e6eb8-1443-4af0-b5e4-059e5515bb4e"
      },
      "execution_count": 13,
      "outputs": [
        {
          "output_type": "stream",
          "name": "stdout",
          "text": [
            "Urutan n-gram untuk 3 contoh berikut terlihat seperti ini:\n",
            "\n"
          ]
        },
        {
          "output_type": "execute_result",
          "data": {
            "text/plain": [
              "[[8, 878],\n",
              " [8, 878, 134],\n",
              " [8, 878, 134, 351],\n",
              " [8, 878, 134, 351, 102],\n",
              " [8, 878, 134, 351, 102, 156],\n",
              " [8, 878, 134, 351, 102, 156, 199],\n",
              " [16, 22],\n",
              " [16, 22, 2],\n",
              " [16, 22, 2, 879],\n",
              " [16, 22, 2, 879, 61],\n",
              " [16, 22, 2, 879, 61, 30],\n",
              " [16, 22, 2, 879, 61, 30, 48],\n",
              " [16, 22, 2, 879, 61, 30, 48, 634],\n",
              " [25, 311],\n",
              " [25, 311, 635],\n",
              " [25, 311, 635, 102],\n",
              " [25, 311, 635, 102, 200],\n",
              " [25, 311, 635, 102, 200, 25],\n",
              " [25, 311, 635, 102, 200, 25, 278]]"
            ]
          },
          "metadata": {},
          "execution_count": 13
        }
      ]
    },
    {
      "cell_type": "markdown",
      "source": [
        "Terapkan transformasi n_gram_seqs ke seluruh korpus dan simpan panjang urutan maksimum untuk digunakan nanti:"
      ],
      "metadata": {
        "id": "SuEraYTdY1nV"
      }
    },
    {
      "cell_type": "code",
      "source": [
        "# Terapkan transformasi n_gram_seqs ke seluruh korpus\n",
        "input_sequences = n_gram_seqs(corpus, tokenizer)\n",
        "\n",
        "# Simpan panjang maksimum\n",
        "max_sequence_len = max([len(x) for x in input_sequences])\n",
        "\n",
        "print(f\"n-gram dari input_sequences memiliki panjang: {len(input_sequences)}\")\n",
        "print(f\"Panjang maksimum dari urutan adalah: {max_sequence_len}\")\n"
      ],
      "metadata": {
        "colab": {
          "base_uri": "https://localhost:8080/"
        },
        "id": "3zoCpJBLYsVa",
        "outputId": "53d81254-2f3e-458c-9a78-75ff7ac1bcdd"
      },
      "execution_count": 14,
      "outputs": [
        {
          "output_type": "stream",
          "name": "stdout",
          "text": [
            "n-gram dari input_sequences memiliki panjang: 15462\n",
            "Panjang maksimum dari urutan adalah: 11\n"
          ]
        }
      ]
    },
    {
      "cell_type": "markdown",
      "source": [
        "## Menambahkan Padding pada Urutan"
      ],
      "metadata": {
        "id": "LVRt2KQ7ZJ8D"
      }
    },
    {
      "cell_type": "code",
      "source": [
        "def pad_seqs(input_sequences, maxlen):\n",
        "    padded_sequences = np.array(pad_sequences(input_sequences, maxlen = maxlen))\n",
        "    return padded_sequences"
      ],
      "metadata": {
        "id": "V7cUz0JnY9Rj"
      },
      "execution_count": 15,
      "outputs": []
    },
    {
      "cell_type": "code",
      "source": [
        "# Uji fungsi dengan n-gram urutan dari contoh pertama\n",
        "first_padded_seq = pad_seqs(first_example_sequence, max([len(x) for x in first_example_sequence]))\n",
        "first_padded_seq\n"
      ],
      "metadata": {
        "colab": {
          "base_uri": "https://localhost:8080/"
        },
        "id": "7yqBTxVzZV_3",
        "outputId": "bf95b5cf-1050-415f-de79-c417d659c950"
      },
      "execution_count": 16,
      "outputs": [
        {
          "output_type": "execute_result",
          "data": {
            "text/plain": [
              "array([[  0,   0,   0,   0,  34, 417],\n",
              "       [  0,   0,   0,  34, 417, 877],\n",
              "       [  0,   0,  34, 417, 877, 166],\n",
              "       [  0,  34, 417, 877, 166, 213],\n",
              "       [ 34, 417, 877, 166, 213, 517]], dtype=int32)"
            ]
          },
          "metadata": {},
          "execution_count": 16
        }
      ]
    },
    {
      "cell_type": "code",
      "source": [
        "# Uji fungsi dengan n-gram urutan dari 3 contoh berikutnya\n",
        "next_3_padded_seq = pad_seqs(next_3_examples_sequence, max([len(s) for s in next_3_examples_sequence]))\n",
        "next_3_padded_seq\n"
      ],
      "metadata": {
        "colab": {
          "base_uri": "https://localhost:8080/"
        },
        "id": "IL15Sgs6ZbHU",
        "outputId": "e169da2b-fc3b-4bce-eba4-e969672c5be3"
      },
      "execution_count": 17,
      "outputs": [
        {
          "output_type": "execute_result",
          "data": {
            "text/plain": [
              "array([[  0,   0,   0,   0,   0,   0,   8, 878],\n",
              "       [  0,   0,   0,   0,   0,   8, 878, 134],\n",
              "       [  0,   0,   0,   0,   8, 878, 134, 351],\n",
              "       [  0,   0,   0,   8, 878, 134, 351, 102],\n",
              "       [  0,   0,   8, 878, 134, 351, 102, 156],\n",
              "       [  0,   8, 878, 134, 351, 102, 156, 199],\n",
              "       [  0,   0,   0,   0,   0,   0,  16,  22],\n",
              "       [  0,   0,   0,   0,   0,  16,  22,   2],\n",
              "       [  0,   0,   0,   0,  16,  22,   2, 879],\n",
              "       [  0,   0,   0,  16,  22,   2, 879,  61],\n",
              "       [  0,   0,  16,  22,   2, 879,  61,  30],\n",
              "       [  0,  16,  22,   2, 879,  61,  30,  48],\n",
              "       [ 16,  22,   2, 879,  61,  30,  48, 634],\n",
              "       [  0,   0,   0,   0,   0,   0,  25, 311],\n",
              "       [  0,   0,   0,   0,   0,  25, 311, 635],\n",
              "       [  0,   0,   0,   0,  25, 311, 635, 102],\n",
              "       [  0,   0,   0,  25, 311, 635, 102, 200],\n",
              "       [  0,   0,  25, 311, 635, 102, 200,  25],\n",
              "       [  0,  25, 311, 635, 102, 200,  25, 278]], dtype=int32)"
            ]
          },
          "metadata": {},
          "execution_count": 17
        }
      ]
    },
    {
      "cell_type": "code",
      "source": [
        "# Melakukan padding ke seluruh korpus\n",
        "input_sequences = pad_seqs(input_sequences, max_sequence_len)\n",
        "\n",
        "print(f\"Korpus yang telah dipadati memiliki bentuk: {input_sequences.shape}\")\n"
      ],
      "metadata": {
        "colab": {
          "base_uri": "https://localhost:8080/"
        },
        "id": "jn0DPrz6ZpZJ",
        "outputId": "55a24337-4ed3-4e92-9723-f9f77368dcec"
      },
      "execution_count": 18,
      "outputs": [
        {
          "output_type": "stream",
          "name": "stdout",
          "text": [
            "Korpus yang telah dipadati memiliki bentuk: (15462, 11)\n"
          ]
        }
      ]
    },
    {
      "cell_type": "markdown",
      "source": [
        "\n",
        "##Memisahkan Data menjadi Fitur dan Label\n",
        "Sebelum memberi data ke neural network, perlu memisahkan data tersebut menjadi fitur dan label. Dalam kasus ini, fitur akan menjadi urutan n-gram yang telah dipadati dengan menghapus kata terakhir dari urutan tersebut, dan label akan menjadi kata yang dihapus.\n",
        "\n",
        "fungsi features_and_labels di bawah ini. Fungsi ini mengharapkan urutan n-gram yang telah dipadati sebagai input dan seharusnya mengembalikan tuple yang berisi fitur dan label yang telah di-one-hot encode."
      ],
      "metadata": {
        "id": "2ul56khraHsX"
      }
    },
    {
      "cell_type": "code",
      "source": [
        "def features_and_labels(input_sequences, total_words):\n",
        "\n",
        "    features = input_sequences[:, :-1]\n",
        "    labels = input_sequences[:, -1]\n",
        "    one_hot_labels = to_categorical(labels, num_classes = total_words)\n",
        "\n",
        "    return features, one_hot_labels"
      ],
      "metadata": {
        "id": "XJWqYq9vZvf8"
      },
      "execution_count": 19,
      "outputs": []
    },
    {
      "cell_type": "code",
      "source": [
        "# Uji fungsi dengan urutan n-gram yang telah dipadati dari contoh pertama\n",
        "first_features, first_labels = features_and_labels(first_padded_seq, total_words)\n",
        "\n",
        "print(f\"Label memiliki bentuk: {first_labels.shape}\")\n",
        "print(\"\\nFitur terlihat seperti ini:\\n\")\n",
        "first_features\n"
      ],
      "metadata": {
        "colab": {
          "base_uri": "https://localhost:8080/"
        },
        "id": "Wtpw5bwUad3J",
        "outputId": "1c3dfb1e-3536-4976-db41-7b627ea3dc72"
      },
      "execution_count": 20,
      "outputs": [
        {
          "output_type": "stream",
          "name": "stdout",
          "text": [
            "Label memiliki bentuk: (5, 3211)\n",
            "\n",
            "Fitur terlihat seperti ini:\n",
            "\n"
          ]
        },
        {
          "output_type": "execute_result",
          "data": {
            "text/plain": [
              "array([[  0,   0,   0,   0,  34],\n",
              "       [  0,   0,   0,  34, 417],\n",
              "       [  0,   0,  34, 417, 877],\n",
              "       [  0,  34, 417, 877, 166],\n",
              "       [ 34, 417, 877, 166, 213]], dtype=int32)"
            ]
          },
          "metadata": {},
          "execution_count": 20
        }
      ]
    },
    {
      "cell_type": "code",
      "source": [
        "# Pisahkan seluruh korpus\n",
        "fitur, label = features_and_labels(input_sequences, total_words)\n",
        "\n",
        "print(f\"Fitur memiliki bentuk: {fitur.shape}\")\n",
        "print(f\"Label memiliki bentuk: {label.shape}\")\n"
      ],
      "metadata": {
        "colab": {
          "base_uri": "https://localhost:8080/"
        },
        "id": "rXf3BTZgaiYb",
        "outputId": "2a7acc3f-1f8c-49ee-e61f-b9ba5788eb2e"
      },
      "execution_count": 21,
      "outputs": [
        {
          "output_type": "stream",
          "name": "stdout",
          "text": [
            "Fitur memiliki bentuk: (15462, 10)\n",
            "Label memiliki bentuk: (15462, 3211)\n"
          ]
        }
      ]
    },
    {
      "cell_type": "markdown",
      "source": [
        "##Membuat Model\n",
        "Neural Networl LSTM tipe jaringan saraf rekuren yang cocok untuk pemrosesan urutan data, seperti teks."
      ],
      "metadata": {
        "id": "kX63pt72atvF"
      }
    },
    {
      "cell_type": "code",
      "source": [
        "def create_model(total_words, max_sequence_len):\n",
        "    model = Sequential()\n",
        "    model.add(Embedding(total_words, 100, input_length = max_sequence_len - 1))\n",
        "    model.add(Bidirectional(LSTM(150)))\n",
        "    model.add(Dense(total_words, activation = 'softmax'))\n",
        "\n",
        "    # Compile model\n",
        "    model.compile(loss='categorical_crossentropy',\n",
        "                  optimizer='adam',\n",
        "                  metrics=['accuracy'])\n",
        "\n",
        "\n",
        "    return model"
      ],
      "metadata": {
        "id": "g_4_waU_aodM"
      },
      "execution_count": 22,
      "outputs": []
    },
    {
      "cell_type": "code",
      "source": [
        "# Dapatkan model yang belum dilatih\n",
        "model = create_model(total_words, max_sequence_len)\n",
        "\n",
        "# Latih model\n",
        "history = model.fit(fitur, label, epochs=50, verbose=1)\n"
      ],
      "metadata": {
        "colab": {
          "base_uri": "https://localhost:8080/"
        },
        "id": "-IQaUyu6a1q7",
        "outputId": "33d2fa71-15a7-4703-98de-84483b379d85"
      },
      "execution_count": 23,
      "outputs": [
        {
          "output_type": "stream",
          "name": "stdout",
          "text": [
            "Epoch 1/50\n",
            "484/484 [==============================] - 36s 65ms/step - loss: 6.8877 - accuracy: 0.0233\n",
            "Epoch 2/50\n",
            "484/484 [==============================] - 29s 59ms/step - loss: 6.4191 - accuracy: 0.0294\n",
            "Epoch 3/50\n",
            "484/484 [==============================] - 29s 61ms/step - loss: 6.1907 - accuracy: 0.0400\n",
            "Epoch 4/50\n",
            "484/484 [==============================] - 32s 66ms/step - loss: 5.9410 - accuracy: 0.0519\n",
            "Epoch 5/50\n",
            "484/484 [==============================] - 30s 61ms/step - loss: 5.6538 - accuracy: 0.0619\n",
            "Epoch 6/50\n",
            "484/484 [==============================] - 30s 62ms/step - loss: 5.3071 - accuracy: 0.0755\n",
            "Epoch 7/50\n",
            "484/484 [==============================] - 30s 61ms/step - loss: 4.9192 - accuracy: 0.0936\n",
            "Epoch 8/50\n",
            "484/484 [==============================] - 30s 62ms/step - loss: 4.5127 - accuracy: 0.1218\n",
            "Epoch 9/50\n",
            "484/484 [==============================] - 30s 62ms/step - loss: 4.1074 - accuracy: 0.1717\n",
            "Epoch 10/50\n",
            "484/484 [==============================] - 29s 59ms/step - loss: 3.7082 - accuracy: 0.2322\n",
            "Epoch 11/50\n",
            "484/484 [==============================] - 30s 62ms/step - loss: 3.3300 - accuracy: 0.3010\n",
            "Epoch 12/50\n",
            "484/484 [==============================] - 31s 63ms/step - loss: 2.9999 - accuracy: 0.3655\n",
            "Epoch 13/50\n",
            "484/484 [==============================] - 29s 60ms/step - loss: 2.7010 - accuracy: 0.4234\n",
            "Epoch 14/50\n",
            "484/484 [==============================] - 30s 62ms/step - loss: 2.4408 - accuracy: 0.4774\n",
            "Epoch 15/50\n",
            "484/484 [==============================] - 30s 62ms/step - loss: 2.2060 - accuracy: 0.5322\n",
            "Epoch 16/50\n",
            "484/484 [==============================] - 29s 60ms/step - loss: 1.9996 - accuracy: 0.5743\n",
            "Epoch 17/50\n",
            "484/484 [==============================] - 29s 61ms/step - loss: 1.8223 - accuracy: 0.6127\n",
            "Epoch 18/50\n",
            "484/484 [==============================] - 30s 63ms/step - loss: 1.6578 - accuracy: 0.6495\n",
            "Epoch 19/50\n",
            "484/484 [==============================] - 29s 60ms/step - loss: 1.5125 - accuracy: 0.6833\n",
            "Epoch 20/50\n",
            "484/484 [==============================] - 30s 61ms/step - loss: 1.3870 - accuracy: 0.7132\n",
            "Epoch 21/50\n",
            "484/484 [==============================] - 31s 65ms/step - loss: 1.2731 - accuracy: 0.7348\n",
            "Epoch 22/50\n",
            "484/484 [==============================] - 30s 61ms/step - loss: 1.1663 - accuracy: 0.7582\n",
            "Epoch 23/50\n",
            "484/484 [==============================] - 31s 63ms/step - loss: 1.0842 - accuracy: 0.7768\n",
            "Epoch 24/50\n",
            "484/484 [==============================] - 29s 60ms/step - loss: 1.0019 - accuracy: 0.7914\n",
            "Epoch 25/50\n",
            "484/484 [==============================] - 31s 63ms/step - loss: 0.9361 - accuracy: 0.8040\n",
            "Epoch 26/50\n",
            "484/484 [==============================] - 30s 62ms/step - loss: 0.8835 - accuracy: 0.8145\n",
            "Epoch 27/50\n",
            "484/484 [==============================] - 30s 63ms/step - loss: 0.8362 - accuracy: 0.8226\n",
            "Epoch 28/50\n",
            "484/484 [==============================] - 31s 63ms/step - loss: 0.7981 - accuracy: 0.8267\n",
            "Epoch 29/50\n",
            "484/484 [==============================] - 29s 60ms/step - loss: 0.7558 - accuracy: 0.8346\n",
            "Epoch 30/50\n",
            "484/484 [==============================] - 29s 60ms/step - loss: 0.7301 - accuracy: 0.8359\n",
            "Epoch 31/50\n",
            "484/484 [==============================] - 31s 64ms/step - loss: 0.7024 - accuracy: 0.8401\n",
            "Epoch 32/50\n",
            "484/484 [==============================] - 29s 60ms/step - loss: 0.6932 - accuracy: 0.8408\n",
            "Epoch 33/50\n",
            "484/484 [==============================] - 31s 64ms/step - loss: 0.6708 - accuracy: 0.8422\n",
            "Epoch 34/50\n",
            "484/484 [==============================] - 29s 60ms/step - loss: 0.6542 - accuracy: 0.8449\n",
            "Epoch 35/50\n",
            "484/484 [==============================] - 30s 63ms/step - loss: 0.6403 - accuracy: 0.8461\n",
            "Epoch 36/50\n",
            "484/484 [==============================] - 29s 60ms/step - loss: 0.6354 - accuracy: 0.8454\n",
            "Epoch 37/50\n",
            "484/484 [==============================] - 29s 60ms/step - loss: 0.6238 - accuracy: 0.8463\n",
            "Epoch 38/50\n",
            "484/484 [==============================] - 29s 60ms/step - loss: 0.6148 - accuracy: 0.8466\n",
            "Epoch 39/50\n",
            "484/484 [==============================] - 31s 63ms/step - loss: 0.6099 - accuracy: 0.8467\n",
            "Epoch 40/50\n",
            "484/484 [==============================] - 30s 61ms/step - loss: 0.6044 - accuracy: 0.8480\n",
            "Epoch 41/50\n",
            "484/484 [==============================] - 31s 63ms/step - loss: 0.5977 - accuracy: 0.8477\n",
            "Epoch 42/50\n",
            "484/484 [==============================] - 30s 62ms/step - loss: 0.5948 - accuracy: 0.8488\n",
            "Epoch 43/50\n",
            "484/484 [==============================] - 29s 60ms/step - loss: 0.5836 - accuracy: 0.8488\n",
            "Epoch 44/50\n",
            "484/484 [==============================] - 29s 60ms/step - loss: 0.5819 - accuracy: 0.8475\n",
            "Epoch 45/50\n",
            "484/484 [==============================] - 29s 61ms/step - loss: 0.5785 - accuracy: 0.8491\n",
            "Epoch 46/50\n",
            "484/484 [==============================] - 30s 62ms/step - loss: 0.5752 - accuracy: 0.8486\n",
            "Epoch 47/50\n",
            "484/484 [==============================] - 29s 61ms/step - loss: 0.5702 - accuracy: 0.8484\n",
            "Epoch 48/50\n",
            "484/484 [==============================] - 29s 61ms/step - loss: 0.5698 - accuracy: 0.8497\n",
            "Epoch 49/50\n",
            "484/484 [==============================] - 30s 61ms/step - loss: 0.5721 - accuracy: 0.8481\n",
            "Epoch 50/50\n",
            "484/484 [==============================] - 31s 63ms/step - loss: 0.5646 - accuracy: 0.8487\n"
          ]
        }
      ]
    },
    {
      "cell_type": "code",
      "source": [
        "import matplotlib.pyplot as plt\n",
        "\n",
        "akurasi = history.history['accuracy']\n",
        "kerugian = history.history['loss']\n",
        "\n",
        "epoch = range(len(akurasi))\n",
        "\n",
        "plt.plot(epoch, akurasi, 'b', label='Akurasi Pelatihan')\n",
        "plt.title('Akurasi Pelatihan')\n",
        "\n",
        "plt.figure()\n",
        "\n",
        "plt.plot(epoch, kerugian, 'b', label='Kerugian Pelatihan')\n",
        "plt.title('Kerugian Pelatihan')\n",
        "plt.legend()\n",
        "\n",
        "plt.show()\n"
      ],
      "metadata": {
        "colab": {
          "base_uri": "https://localhost:8080/",
          "height": 887
        },
        "id": "aefa8Rwha-Zl",
        "outputId": "73c166f0-312c-4d03-f2a9-e055632956fa"
      },
      "execution_count": 24,
      "outputs": [
        {
          "output_type": "display_data",
          "data": {
            "text/plain": [
              "<Figure size 640x480 with 1 Axes>"
            ],
            "image/png": "[encoded data removed]"
          },
          "metadata": {}
        },
        {
          "output_type": "display_data",
          "data": {
            "text/plain": [
              "<Figure size 640x480 with 1 Axes>"
            ],
            "image/png": "[encoded data removed]"
          },
          "metadata": {}
        }
      ]
    },
    {
      "cell_type": "markdown",
      "source": [
        "##Lihat Model untuk prediksi kata\n",
        "melihat model menghasilkan teks.\n",
        "Jalankan sel di bawah ini untuk menghasilkan 100 kata berikutnya dari teks awal."
      ],
      "metadata": {
        "id": "BII6PFA5hFtV"
      }
    },
    {
      "cell_type": "code",
      "source": [
        "seed_text = \"From fairest creatures we desire increase\"\n",
        "kata_selanjutnya = 100\n",
        "\n",
        "for _ in range(kata_selanjutnya):\n",
        "    # Mengonversi teks menjadi urutan\n",
        "    token_list = tokenizer.texts_to_sequences([seed_text])[0]\n",
        "    # Melakukan padding pada urutan\n",
        "    token_list = pad_sequences([token_list], maxlen=max_sequence_len-1, padding='pre')\n",
        "    # Mendapatkan probabilitas memprediksi sebuah kata\n",
        "    predicted = model.predict(token_list, verbose=0)\n",
        "    # Memilih kata selanjutnya berdasarkan probabilitas maksimum\n",
        "    predicted = np.argmax(predicted, axis=-1).item()\n",
        "    # Mendapatkan kata sebenarnya dari indeks kata\n",
        "    output_word = tokenizer.index_word[predicted]\n",
        "    # Menambahkan ke teks saat ini\n",
        "    seed_text += \" \" + output_word\n",
        "\n",
        "print(seed_text)\n"
      ],
      "metadata": {
        "colab": {
          "base_uri": "https://localhost:8080/"
        },
        "id": "UMeO2i_Rg5_M",
        "outputId": "983a08ae-fcfd-40f3-ed43-fe749e79558e"
      },
      "execution_count": 28,
      "outputs": [
        {
          "output_type": "stream",
          "name": "stdout",
          "text": [
            "From fairest creatures we desire increase cry shows now heart thence it swear thee none near call good date heir me in head done done shall hate none none ranks true heart in fortune so call ' ' me none had knows me not not that can heart so heart of thee head me in thee is i love well admitted new live bright ' with friend art poor blessed see tripping less of her growth to thee it bright alone else so bold in truth ' have erred much near assured thee and thine eyes me bright ' ' with this art and in my\n"
          ]
        }
      ]
    },
    {
      "cell_type": "code",
      "source": [],
      "metadata": {
        "id": "doYkgZ1ThmTJ"
      },
      "execution_count": 26,
      "outputs": []
    }
  ]
}